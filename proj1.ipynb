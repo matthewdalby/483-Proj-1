{
 "cells": [
  {
   "cell_type": "code",
   "execution_count": 89,
   "metadata": {},
   "outputs": [],
   "source": [
    "import numpy as np\n",
    "import pandas as pd\n",
    "\n",
    "survey_data = pd.read_csv(r\"C:\\Users\\Tuse\\Desktop\\HappinessData-1.csv\")\n",
    "\n",
    "#Move Target column to end\n",
    "\n",
    "column_to_move = survey_data.pop(\"Unhappy/Happy\")\n",
    "survey_data.insert(len(survey_data.columns), \"Unhappy/Happy\", column_to_move)"
   ]
  },
  {
   "cell_type": "code",
   "execution_count": 90,
   "metadata": {},
   "outputs": [],
   "source": [
    "#Drop NA values\n",
    "survey_data = survey_data.dropna()\n",
    "\n",
    "#pd.set_option(\"display.max_rows\", None, \"display.max_columns\", None)\n",
    "#print(survey_data)\n"
   ]
  },
  {
   "cell_type": "code",
   "execution_count": 91,
   "metadata": {},
   "outputs": [],
   "source": [
    "#Feature Correlation Matrix using NP\n",
    "correlation = survey_data.corr()\n",
    "\n",
    "#print(correlation)\n",
    "\n",
    "#The highest correlation was between \"Availability of a community room\" and \"City services Availibility\"\n",
    "#This was only a 0.41 correlation; which is very low. This means that the features in the dataset have\n",
    "#Essentially no correlation between one another.\n"
   ]
  },
  {
   "cell_type": "code",
   "execution_count": 92,
   "metadata": {},
   "outputs": [],
   "source": [
    "#KNN Using sklearn\n",
    "\n",
    "#Split data into test and target\n",
    "from sklearn.model_selection import train_test_split\n",
    "from sklearn.neighbors import KNeighborsClassifier\n",
    "\n",
    "X = survey_data.iloc[:, :-1].values\n",
    "y = survey_data.iloc[:, 6].values\n",
    "\n",
    "X_train, X_test, y_train, y_test = train_test_split(X,y,test_size=0.20)\n",
    "\n"
   ]
  },
  {
   "cell_type": "code",
   "execution_count": 93,
   "metadata": {},
   "outputs": [],
   "source": [
    "#Scale the model\n",
    "from sklearn.preprocessing import StandardScaler\n",
    "\n",
    "scaler = StandardScaler()\n",
    "scaler.fit(X_train)\n",
    "X_train = scaler.transform(X_train)\n",
    "X_test = scaler.transform(X_test)\n"
   ]
  },
  {
   "cell_type": "code",
   "execution_count": 94,
   "metadata": {},
   "outputs": [
    {
     "data": {
      "text/plain": [
       "KNeighborsClassifier()"
      ]
     },
     "execution_count": 94,
     "metadata": {},
     "output_type": "execute_result"
    }
   ],
   "source": [
    "#Train the model\n",
    "from sklearn.neighbors import NearestNeighbors\n",
    "classifier = KNeighborsClassifier()\n",
    "classifier.fit(X_train,y_train)"
   ]
  },
  {
   "cell_type": "code",
   "execution_count": 95,
   "metadata": {},
   "outputs": [
    {
     "name": "stdout",
     "output_type": "stream",
     "text": [
      "              precision    recall  f1-score   support\n",
      "\n",
      "           0       0.41      0.70      0.52        10\n",
      "           1       0.73      0.44      0.55        18\n",
      "\n",
      "    accuracy                           0.54        28\n",
      "   macro avg       0.57      0.57      0.54        28\n",
      "weighted avg       0.61      0.54      0.54        28\n",
      "\n",
      "[[ 7  3]\n",
      " [10  8]]\n"
     ]
    }
   ],
   "source": [
    "#Make Predictions using the model\n",
    "from sklearn.metrics import classification_report\n",
    "y_pred = classifier.predict(X_test)\n",
    "print(classification_report(y_test,y_pred))\n"
   ]
  }
 ],
 "metadata": {
  "interpreter": {
   "hash": "ac59ebe37160ed0dfa835113d9b8498d9f09ceb179beaac4002f036b9467c963"
  },
  "kernelspec": {
   "display_name": "Python 3.9.1 64-bit",
   "language": "python",
   "name": "python3"
  },
  "language_info": {
   "codemirror_mode": {
    "name": "ipython",
    "version": 3
   },
   "file_extension": ".py",
   "mimetype": "text/x-python",
   "name": "python",
   "nbconvert_exporter": "python",
   "pygments_lexer": "ipython3",
   "version": "3.9.1"
  },
  "orig_nbformat": 4
 },
 "nbformat": 4,
 "nbformat_minor": 2
}

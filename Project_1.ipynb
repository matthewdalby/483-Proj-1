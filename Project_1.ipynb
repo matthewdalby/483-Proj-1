{
 "cells": [
  {
   "cell_type": "code",
   "execution_count": 1,
   "id": "5f8a3923",
   "metadata": {},
   "outputs": [],
   "source": [
    "import numpy as np\n",
    "import pandas as pd"
   ]
  },
  {
   "cell_type": "code",
   "execution_count": 2,
   "id": "b7f85b48",
   "metadata": {},
   "outputs": [],
   "source": [
    "survey_data = pd.read_csv(\"HappinessData-1.csv\")\n",
    "column_to_move = survey_data.pop(\"Unhappy/Happy\")\n",
    "survey_data.insert(len(survey_data.columns), \"Unhappy/Happy\", column_to_move)"
   ]
  },
  {
   "cell_type": "code",
   "execution_count": 3,
   "id": "c70d4ba8",
   "metadata": {
    "scrolled": true
   },
   "outputs": [],
   "source": [
    "survey_data = survey_data.dropna()"
   ]
  },
  {
   "cell_type": "code",
   "execution_count": 4,
   "id": "5ccc9ecb",
   "metadata": {},
   "outputs": [],
   "source": [
    "correlation = survey_data.corr()\n",
    "\n",
    "#print(correlation)\n",
    "\n",
    "#Matthew's observation:\n",
    "#The highest correlation was between \"Availability of a community room\" and \"City services Availibility\"\n",
    "#This was only a 0.41 correlation; which is very low. This means that the features in the dataset have\n",
    "#Essentially no correlation between one another.\n",
    "\n",
    "#Duc's observation:\n",
    "#The highest correlation between the features and unhappy/happy is \n",
    "#city services availability, community maintenance, \n",
    "#and availability of community room."
   ]
  },
  {
   "cell_type": "code",
   "execution_count": 5,
   "id": "a3bc5955",
   "metadata": {},
   "outputs": [],
   "source": [
    "#KNN using sklearn\n",
    "from sklearn.model_selection import train_test_split\n",
    "from sklearn.neighbors import KNeighborsClassifier\n",
    "from sklearn import metrics"
   ]
  },
  {
   "cell_type": "code",
   "execution_count": 6,
   "id": "29d0aab3",
   "metadata": {},
   "outputs": [],
   "source": [
    "X = survey_data.iloc[:, :-1].values\n",
    "y = survey_data.iloc[:, -1].values"
   ]
  },
  {
   "cell_type": "code",
   "execution_count": 7,
   "id": "01b792a0",
   "metadata": {},
   "outputs": [],
   "source": [
    "#Seperate test set and training set eith .2 and .8 ratio\n",
    "X_train, X_test, y_train, y_test = train_test_split(X,y,test_size=0.20)"
   ]
  },
  {
   "cell_type": "code",
   "execution_count": 8,
   "id": "99e77a1e",
   "metadata": {},
   "outputs": [],
   "source": [
    "#Sklearn's KNN algorithm with 5 neighbors\n",
    "classifier_default = KNeighborsClassifier(n_neighbors=5)\n",
    "classifier_default.fit(X_train, y_train)\n",
    "y_default_pred = classifier_default.predict(X_test)"
   ]
  },
  {
   "cell_type": "code",
   "execution_count": 9,
   "id": "5baa1cf4",
   "metadata": {},
   "outputs": [
    {
     "name": "stdout",
     "output_type": "stream",
     "text": [
      "              precision    recall  f1-score   support\n",
      "\n",
      "           0       0.88      0.47      0.61        15\n",
      "           1       0.60      0.92      0.73        13\n",
      "\n",
      "    accuracy                           0.68        28\n",
      "   macro avg       0.74      0.69      0.67        28\n",
      "weighted avg       0.75      0.68      0.66        28\n",
      "\n"
     ]
    }
   ],
   "source": [
    "#Classification Report\n",
    "classification_report_default = metrics.classification_report(y_test, y_default_pred)\n",
    "print(classification_report_default)"
   ]
  },
  {
   "cell_type": "code",
   "execution_count": 10,
   "id": "7d642974",
   "metadata": {},
   "outputs": [],
   "source": [
    "#Finding the perfect numbers of neighbors for sklearn's KNN algorithm\n",
    "k_range = range(1, 40)\n",
    "errors_list = []"
   ]
  },
  {
   "cell_type": "code",
   "execution_count": 11,
   "id": "e184105b",
   "metadata": {},
   "outputs": [],
   "source": [
    "for k in k_range:\n",
    "    classifier = KNeighborsClassifier(n_neighbors=k)\n",
    "    classifier.fit(X_train, y_train)\n",
    "    y_pred = classifier.predict(X_test)\n",
    "    errors_list.append(1.0 - metrics.accuracy_score(y_test,y_pred))"
   ]
  },
  {
   "cell_type": "code",
   "execution_count": 12,
   "id": "69f8564f",
   "metadata": {},
   "outputs": [],
   "source": [
    "#Plot the accuracy values for sklearn's KNN algorithm with the range of [1, 40]\n",
    "%matplotlib inline\n",
    "import matplotlib.pyplot as plt"
   ]
  },
  {
   "cell_type": "code",
   "execution_count": 13,
   "id": "4685fc5d",
   "metadata": {},
   "outputs": [
    {
     "data": {
      "text/plain": [
       "Text(0, 0.5, 'Error Rate')"
      ]
     },
     "execution_count": 13,
     "metadata": {},
     "output_type": "execute_result"
    },
    {
     "data": {
      "image/png": "[encoded data removed]",
      "text/plain": [
       "<Figure size 432x288 with 1 Axes>"
      ]
     },
     "metadata": {
      "needs_background": "light"
     },
     "output_type": "display_data"
    }
   ],
   "source": [
    "plt.plot(k_range,errors_list, linestyle='dashed', marker='o')\n",
    "plt.xlabel(\"K Value\")\n",
    "plt.ylabel(\"Error Rate\")"
   ]
  },
  {
   "cell_type": "code",
   "execution_count": 14,
   "id": "11e67eb7",
   "metadata": {},
   "outputs": [],
   "source": [
    "#Predicting with custom KNN and euclidean distance\n",
    "from custom_knn import KNN\n",
    "from distance_methods import euclidean_distance"
   ]
  },
  {
   "cell_type": "code",
   "execution_count": 15,
   "id": "53422456",
   "metadata": {},
   "outputs": [],
   "source": [
    "KNN_euclidean_default = KNN(euclidean_distance)\n",
    "KNN_euclidean_default.fit(X_train, y_train)\n",
    "y_euclidean_pred = KNN_euclidean_default.predict(X_test)"
   ]
  },
  {
   "cell_type": "code",
   "execution_count": 16,
   "id": "b4ab38fe",
   "metadata": {},
   "outputs": [
    {
     "name": "stdout",
     "output_type": "stream",
     "text": [
      "              precision    recall  f1-score   support\n",
      "\n",
      "           0       0.75      0.40      0.52        15\n",
      "           1       0.55      0.85      0.67        13\n",
      "\n",
      "    accuracy                           0.61        28\n",
      "   macro avg       0.65      0.62      0.59        28\n",
      "weighted avg       0.66      0.61      0.59        28\n",
      "\n"
     ]
    }
   ],
   "source": [
    "classification_report_euclidean = metrics.classification_report(y_test, y_euclidean_pred)\n",
    "print(classification_report_euclidean)"
   ]
  },
  {
   "cell_type": "code",
   "execution_count": 17,
   "id": "b08c8080",
   "metadata": {},
   "outputs": [],
   "source": [
    "errors_euclidean_list = []\n",
    "\n",
    "for k in k_range:\n",
    "    classifier = KNN(euclidean_distance, k)\n",
    "    classifier.fit(X_train, y_train)\n",
    "    y_pred = classifier.predict(X_test)\n",
    "    errors_euclidean_list.append(1.0 - metrics.accuracy_score(y_test,y_pred))"
   ]
  },
  {
   "cell_type": "code",
   "execution_count": 18,
   "id": "dc7bba9d",
   "metadata": {},
   "outputs": [
    {
     "data": {
      "text/plain": [
       "Text(0, 0.5, 'Error Rate')"
      ]
     },
     "execution_count": 18,
     "metadata": {},
     "output_type": "execute_result"
    },
    {
     "data": {
      "image/png": "[encoded data removed]",
      "text/plain": [
       "<Figure size 432x288 with 1 Axes>"
      ]
     },
     "metadata": {
      "needs_background": "light"
     },
     "output_type": "display_data"
    }
   ],
   "source": [
    "plt.plot(k_range, errors_euclidean_list, linestyle='dashed', marker='o')\n",
    "plt.xlabel(\"K Value\")\n",
    "plt.ylabel(\"Error Rate\")"
   ]
  },
  {
   "cell_type": "code",
   "execution_count": 19,
   "id": "20bfe6f0",
   "metadata": {},
   "outputs": [],
   "source": [
    "#Predicting with custom KNN and cosine distance\n",
    "from distance_methods import cosine_distance"
   ]
  },
  {
   "cell_type": "code",
   "execution_count": 20,
   "id": "82f3072e",
   "metadata": {},
   "outputs": [],
   "source": [
    "KNN_cosine_default = KNN(cosine_distance)\n",
    "KNN_cosine_default.fit(X_train, y_train)\n",
    "y_cosine_pred = KNN_cosine_default.predict(X_test)"
   ]
  },
  {
   "cell_type": "code",
   "execution_count": 21,
   "id": "0d3206a4",
   "metadata": {},
   "outputs": [
    {
     "name": "stdout",
     "output_type": "stream",
     "text": [
      "              precision    recall  f1-score   support\n",
      "\n",
      "           0       0.83      0.33      0.48        15\n",
      "           1       0.55      0.92      0.69        13\n",
      "\n",
      "    accuracy                           0.61        28\n",
      "   macro avg       0.69      0.63      0.58        28\n",
      "weighted avg       0.70      0.61      0.57        28\n",
      "\n"
     ]
    }
   ],
   "source": [
    "classification_report_cosine = metrics.classification_report(y_test, y_cosine_pred)\n",
    "print(classification_report_cosine)"
   ]
  },
  {
   "cell_type": "code",
   "execution_count": 22,
   "id": "68799fd9",
   "metadata": {},
   "outputs": [],
   "source": [
    "errors_cosine_list = []\n",
    "\n",
    "for k in k_range:\n",
    "    classifier = KNN(cosine_distance, k)\n",
    "    classifier.fit(X_train, y_train)\n",
    "    y_pred = classifier.predict(X_test)\n",
    "    errors_cosine_list.append(1.0 - metrics.accuracy_score(y_test,y_pred))"
   ]
  },
  {
   "cell_type": "code",
   "execution_count": 23,
   "id": "042d0bea",
   "metadata": {},
   "outputs": [
    {
     "data": {
      "text/plain": [
       "Text(0, 0.5, 'Error Rate')"
      ]
     },
     "execution_count": 23,
     "metadata": {},
     "output_type": "execute_result"
    },
    {
     "data": {
      "image/png": "[encoded data removed]",
      "text/plain": [
       "<Figure size 432x288 with 1 Axes>"
      ]
     },
     "metadata": {
      "needs_background": "light"
     },
     "output_type": "display_data"
    }
   ],
   "source": [
    "plt.plot(k_range, errors_cosine_list, linestyle='dashed', marker='o')\n",
    "plt.xlabel(\"K Value\")\n",
    "plt.ylabel(\"Error Rate\")"
   ]
  },
  {
   "cell_type": "code",
   "execution_count": 24,
   "id": "3cebf7d3",
   "metadata": {},
   "outputs": [],
   "source": [
    "#Using K folds on existing algorithms\n",
    "from sklearn.model_selection import KFold\n",
    "from sklearn.model_selection import cross_val_score\n",
    "\n",
    "k_fold = KFold(n_splits=5, random_state=None)"
   ]
  },
  {
   "cell_type": "code",
   "execution_count": 25,
   "id": "837762c9",
   "metadata": {},
   "outputs": [
    {
     "name": "stdout",
     "output_type": "stream",
     "text": [
      "Average accuracy of Sklearn's KNN is 0.5436507936507937\n"
     ]
    }
   ],
   "source": [
    "classifier_kfold = KNeighborsClassifier(n_neighbors=5)\n",
    "result_kfold = cross_val_score(classifier_kfold , X, y, cv = k_fold)\n",
    "print(\"Average accuracy of Sklearn's KNN is {}\".format(result_kfold.mean()))"
   ]
  },
  {
   "cell_type": "code",
   "execution_count": 26,
   "id": "7410c306",
   "metadata": {},
   "outputs": [
    {
     "name": "stdout",
     "output_type": "stream",
     "text": [
      "Average accuracy of Euclidean KNN is 0.5293650793650795\n"
     ]
    }
   ],
   "source": [
    "KNN_euclidean_kfold = KNN(euclidean_distance)\n",
    "kfold_euclidean_accuracy = []\n",
    "\n",
    "for train_index , test_index in k_fold.split(X):\n",
    "    X_euclidean_train = X[train_index, :]\n",
    "    X_euclidean_test = X[test_index, :]\n",
    "    y_euclidean_train = y[train_index]\n",
    "    y_euclidean_test = y[test_index]\n",
    "     \n",
    "    KNN_euclidean_kfold.fit(X_euclidean_train,y_euclidean_train)\n",
    "    y_pred_kfold_euclidean = KNN_euclidean_kfold.predict(X_euclidean_test)\n",
    "\n",
    "    kfold_euclidean_accuracy.append(metrics.accuracy_score(y_pred_kfold_euclidean , y_euclidean_test))\n",
    "    \n",
    "result_euclidean_kfold = sum(kfold_euclidean_accuracy)/5\n",
    "print(\"Average accuracy of Euclidean KNN is {}\".format(result_euclidean_kfold.mean()))"
   ]
  },
  {
   "cell_type": "code",
   "execution_count": 27,
   "id": "b93c179f",
   "metadata": {},
   "outputs": [
    {
     "name": "stdout",
     "output_type": "stream",
     "text": [
      "Average accuracy of Euclidean KNN is 0.4119047619047619\n"
     ]
    }
   ],
   "source": [
    "KNN_cosine_kfold = KNN(cosine_distance)\n",
    "kfold_cosine_accuracy = []\n",
    "\n",
    "for train_index , test_index in k_fold.split(X):\n",
    "    X_cosine_train = X[train_index, :]\n",
    "    X_cosinen_test = X[test_index, :]\n",
    "    y_cosine_train = y[train_index]\n",
    "    y_cosine_test = y[test_index]\n",
    "     \n",
    "    KNN_cosine_kfold.fit(X_cosine_train,y_cosine_train)\n",
    "    y_pred_kfold_cosine = KNN_cosine_kfold.predict(X_cosinen_test)\n",
    "\n",
    "    kfold_cosine_accuracy.append(metrics.accuracy_score(y_pred_kfold_cosine , y_cosine_test))\n",
    "    \n",
    "result_euclidean_kfold = sum(kfold_cosine_accuracy)/5\n",
    "print(\"Average accuracy of Euclidean KNN is {}\".format(result_euclidean_kfold.mean()))"
   ]
  },
  {
   "cell_type": "code",
   "execution_count": null,
   "id": "c5d8fd68",
   "metadata": {},
   "outputs": [],
   "source": []
  }
 ],
 "metadata": {
  "kernelspec": {
   "display_name": "Python 3 (ipykernel)",
   "language": "python",
   "name": "python3"
  },
  "language_info": {
   "codemirror_mode": {
    "name": "ipython",
    "version": 3
   },
   "file_extension": ".py",
   "mimetype": "text/x-python",
   "name": "python",
   "nbconvert_exporter": "python",
   "pygments_lexer": "ipython3",
   "version": "3.10.2"
  }
 },
 "nbformat": 4,
 "nbformat_minor": 5
}

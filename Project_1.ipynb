{
 "cells": [
  {
   "cell_type": "code",
   "execution_count": 1,
   "id": "5f8a3923",
   "metadata": {},
   "outputs": [],
   "source": [
    "import numpy as np\n",
    "import pandas as pd"
   ]
  },
  {
   "cell_type": "code",
   "execution_count": 2,
   "id": "b7f85b48",
   "metadata": {},
   "outputs": [],
   "source": [
    "survey_data = pd.read_csv(\"HappinessData-1.csv\")\n",
    "column_to_move = survey_data.pop(\"Unhappy/Happy\")\n",
    "survey_data.insert(len(survey_data.columns), \"Unhappy/Happy\", column_to_move)"
   ]
  },
  {
   "cell_type": "code",
   "execution_count": 3,
   "id": "c70d4ba8",
   "metadata": {
    "scrolled": true
   },
   "outputs": [],
   "source": [
    "survey_data = survey_data.dropna()"
   ]
  },
  {
   "cell_type": "code",
   "execution_count": 4,
   "id": "2e8fb535",
   "metadata": {},
   "outputs": [
    {
     "name": "stdout",
     "output_type": "stream",
     "text": [
      "     City Services Availability  Housing Cost  Quality of schools  \\\n",
      "0                             5             3                 3.0   \n",
      "1                             5             3                 3.0   \n",
      "2                             4             3                 3.0   \n",
      "3                             4             1                 3.0   \n",
      "4                             3             2                 4.0   \n",
      "..                          ...           ...                 ...   \n",
      "135                           4             3                 3.0   \n",
      "136                           3             4                 3.0   \n",
      "137                           3             3                 3.0   \n",
      "138                           3             3                 1.0   \n",
      "139                           3             3                 1.0   \n",
      "\n",
      "     Community trust in local police  Community Maintenance  \\\n",
      "0                                3.0                      5   \n",
      "1                                3.0                      5   \n",
      "2                                3.0                      4   \n",
      "3                                4.0                      4   \n",
      "4                                4.0                      4   \n",
      "..                               ...                    ...   \n",
      "135                              3.0                      3   \n",
      "136                              3.0                      2   \n",
      "137                              5.0                      5   \n",
      "138                              3.0                      3   \n",
      "139                              3.0                      3   \n",
      "\n",
      "     Availability of Community Room   Unhappy/Happy  \n",
      "0                                  3              1  \n",
      "1                                  3              0  \n",
      "2                                  4              0  \n",
      "3                                  5              0  \n",
      "4                                  5              1  \n",
      "..                               ...            ...  \n",
      "135                                4              1  \n",
      "136                                3              0  \n",
      "137                                5              1  \n",
      "138                                4              1  \n",
      "139                                4              1  \n",
      "\n",
      "[136 rows x 7 columns]\n"
     ]
    }
   ],
   "source": [
    "print(survey_data)"
   ]
  },
  {
   "cell_type": "code",
   "execution_count": 5,
   "id": "5ccc9ecb",
   "metadata": {},
   "outputs": [],
   "source": [
    "correlation = survey_data.corr()"
   ]
  },
  {
   "cell_type": "code",
   "execution_count": 6,
   "id": "b293d70c",
   "metadata": {},
   "outputs": [
    {
     "name": "stdout",
     "output_type": "stream",
     "text": [
      "                                 City Services Availability  Housing Cost  \\\n",
      "City Services Availability                         1.000000      0.083581   \n",
      "Housing Cost                                       0.083581      1.000000   \n",
      "Quality of schools                                 0.310790      0.179804   \n",
      "Community trust in local police                    0.102089      0.095191   \n",
      "Community Maintenance                              0.413512     -0.002696   \n",
      "Availability of Community Room                     0.425844      0.022377   \n",
      "Unhappy/Happy                                      0.330374      0.024465   \n",
      "\n",
      "                                 Quality of schools  \\\n",
      "City Services Availability                 0.310790   \n",
      "Housing Cost                               0.179804   \n",
      "Quality of schools                         1.000000   \n",
      "Community trust in local police            0.273441   \n",
      "Community Maintenance                      0.315938   \n",
      "Availability of Community Room             0.193791   \n",
      "Unhappy/Happy                              0.176568   \n",
      "\n",
      "                                 Community trust in local police  \\\n",
      "City Services Availability                              0.102089   \n",
      "Housing Cost                                            0.095191   \n",
      "Quality of schools                                      0.273441   \n",
      "Community trust in local police                         1.000000   \n",
      "Community Maintenance                                   0.264217   \n",
      "Availability of Community Room                          0.191339   \n",
      "Unhappy/Happy                                           0.123380   \n",
      "\n",
      "                                 Community Maintenance  \\\n",
      "City Services Availability                    0.413512   \n",
      "Housing Cost                                 -0.002696   \n",
      "Quality of schools                            0.315938   \n",
      "Community trust in local police               0.264217   \n",
      "Community Maintenance                         1.000000   \n",
      "Availability of Community Room                0.308713   \n",
      "Unhappy/Happy                                 0.214591   \n",
      "\n",
      "                                 Availability of Community Room   \\\n",
      "City Services Availability                              0.425844   \n",
      "Housing Cost                                            0.022377   \n",
      "Quality of schools                                      0.193791   \n",
      "Community trust in local police                         0.191339   \n",
      "Community Maintenance                                   0.308713   \n",
      "Availability of Community Room                          1.000000   \n",
      "Unhappy/Happy                                           0.212313   \n",
      "\n",
      "                                 Unhappy/Happy  \n",
      "City Services Availability            0.330374  \n",
      "Housing Cost                          0.024465  \n",
      "Quality of schools                    0.176568  \n",
      "Community trust in local police       0.123380  \n",
      "Community Maintenance                 0.214591  \n",
      "Availability of Community Room        0.212313  \n",
      "Unhappy/Happy                         1.000000  \n"
     ]
    }
   ],
   "source": [
    "print(correlation)\n",
    "\n",
    "#Matthew's observation:\n",
    "#The highest correlation was between \"Availability of a community room\" and \"City services Availibility\"\n",
    "#This was only a 0.41 correlation; which is very low. This means that the features in the dataset have\n",
    "#Essentially no correlation between one another.\n",
    "\n",
    "#Duc's observation:\n",
    "#The highest correlation between the features and unhappy/happy is \n",
    "#city services availability, community maintenance, \n",
    "#and availability of community room."
   ]
  },
  {
   "cell_type": "code",
   "execution_count": 7,
   "id": "a3bc5955",
   "metadata": {},
   "outputs": [],
   "source": [
    "#KNN using sklearn\n",
    "from sklearn.model_selection import train_test_split\n",
    "from sklearn.neighbors import KNeighborsClassifier\n",
    "from sklearn import metrics"
   ]
  },
  {
   "cell_type": "code",
   "execution_count": 8,
   "id": "29d0aab3",
   "metadata": {},
   "outputs": [],
   "source": [
    "X = survey_data.iloc[:, :-1].values\n",
    "y = survey_data.iloc[:, -1].values"
   ]
  },
  {
   "cell_type": "code",
   "execution_count": 9,
   "id": "1cf109ab",
   "metadata": {},
   "outputs": [
    {
     "name": "stdout",
     "output_type": "stream",
     "text": [
      "[[5. 3. 3. 3. 5. 3.]\n",
      " [5. 3. 3. 3. 5. 3.]\n",
      " [4. 3. 3. 3. 4. 4.]\n",
      " [4. 1. 3. 4. 4. 5.]\n",
      " [3. 2. 4. 4. 4. 5.]\n",
      " [4. 1. 3. 1. 1. 4.]\n",
      " [4. 2. 3. 3. 4. 4.]\n",
      " [5. 3. 4. 3. 4. 5.]\n",
      " [5. 3. 4. 3. 4. 5.]\n",
      " [5. 2. 3. 3. 2. 5.]\n",
      " [4. 4. 3. 4. 2. 4.]\n",
      " [4. 1. 3. 4. 4. 3.]\n",
      " [5. 2. 3. 3. 3. 3.]\n",
      " [4. 2. 4. 3. 2. 4.]\n",
      " [5. 2. 3. 3. 4. 5.]\n",
      " [4. 3. 3. 4. 2. 4.]\n",
      " [3. 1. 2. 4. 3. 5.]\n",
      " [5. 3. 3. 4. 4. 5.]\n",
      " [1. 1. 1. 3. 1. 4.]\n",
      " [5. 2. 5. 5. 5. 3.]\n",
      " [5. 1. 3. 3. 4. 4.]\n",
      " [5. 1. 3. 3. 4. 4.]\n",
      " [5. 1. 3. 3. 4. 4.]\n",
      " [5. 2. 4. 3. 4. 5.]\n",
      " [5. 2. 4. 3. 4. 5.]\n",
      " [4. 3. 2. 4. 3. 4.]\n",
      " [5. 1. 1. 5. 3. 5.]\n",
      " [4. 4. 4. 4. 3. 4.]\n",
      " [5. 2. 4. 2. 2. 4.]\n",
      " [4. 4. 3. 3. 2. 5.]\n",
      " [4. 3. 3. 3. 3. 5.]\n",
      " [5. 2. 4. 4. 5. 5.]\n",
      " [5. 2. 4. 4. 5. 5.]\n",
      " [5. 5. 5. 2. 5. 5.]\n",
      " [4. 1. 3. 4. 4. 4.]\n",
      " [4. 1. 3. 4. 4. 4.]\n",
      " [3. 3. 3. 5. 4. 3.]\n",
      " [4. 1. 1. 3. 4. 4.]\n",
      " [5. 1. 5. 5. 5. 5.]\n",
      " [5. 4. 5. 5. 5. 5.]\n",
      " [4. 2. 2. 4. 4. 5.]\n",
      " [4. 3. 3. 4. 3. 4.]\n",
      " [3. 4. 3. 4. 1. 4.]\n",
      " [4. 5. 5. 5. 1. 3.]\n",
      " [4. 3. 3. 4. 2. 4.]\n",
      " [5. 2. 3. 3. 2. 5.]\n",
      " [5. 3. 3. 4. 3. 3.]\n",
      " [5. 2. 5. 5. 5. 5.]\n",
      " [3. 2. 3. 3. 4. 4.]\n",
      " [4. 3. 2. 3. 2. 4.]\n",
      " [5. 2. 3. 5. 5. 5.]\n",
      " [5. 3. 3. 3. 2. 5.]\n",
      " [5. 5. 5. 5. 5. 5.]\n",
      " [4. 3. 2. 4. 4. 4.]\n",
      " [3. 3. 3. 3. 3. 4.]\n",
      " [4. 2. 4. 4. 4. 4.]\n",
      " [5. 3. 2. 4. 4. 4.]\n",
      " [4. 3. 4. 4. 2. 4.]\n",
      " [5. 2. 3. 4. 4. 5.]\n",
      " [5. 3. 3. 3. 5. 5.]\n",
      " [4. 1. 3. 4. 4. 3.]\n",
      " [5. 2. 4. 5. 4. 5.]\n",
      " [5. 4. 2. 4. 3. 5.]\n",
      " [3. 3. 1. 3. 2. 3.]\n",
      " [3. 4. 5. 4. 5. 4.]\n",
      " [5. 1. 3. 4. 5. 5.]\n",
      " [5. 4. 5. 5. 5. 4.]\n",
      " [5. 5. 3. 4. 4. 5.]\n",
      " [5. 4. 4. 3. 3. 4.]\n",
      " [5. 4. 4. 4. 4. 5.]\n",
      " [3. 1. 3. 2. 1. 2.]\n",
      " [5. 5. 5. 5. 5. 5.]\n",
      " [4. 4. 3. 4. 3. 3.]\n",
      " [5. 4. 5. 4. 5. 4.]\n",
      " [4. 2. 3. 4. 3. 3.]\n",
      " [3. 3. 2. 4. 4. 4.]\n",
      " [5. 2. 2. 4. 5. 5.]\n",
      " [5. 3. 2. 4. 4. 5.]\n",
      " [3. 1. 2. 3. 3. 1.]\n",
      " [5. 3. 4. 3. 4. 3.]\n",
      " [5. 2. 3. 3. 3. 5.]\n",
      " [4. 3. 4. 4. 3. 4.]\n",
      " [3. 2. 2. 3. 3. 3.]\n",
      " [4. 1. 3. 5. 3. 5.]\n",
      " [5. 1. 4. 3. 5. 5.]\n",
      " [4. 1. 3. 2. 4. 4.]\n",
      " [5. 1. 5. 3. 5. 5.]\n",
      " [4. 2. 4. 4. 4. 4.]\n",
      " [5. 2. 4. 4. 5. 5.]\n",
      " [5. 3. 4. 4. 4. 4.]\n",
      " [5. 2. 4. 4. 2. 3.]\n",
      " [5. 3. 3. 4. 4. 5.]\n",
      " [5. 3. 3. 4. 4. 4.]\n",
      " [3. 2. 3. 3. 5. 4.]\n",
      " [4. 1. 3. 3. 3. 4.]\n",
      " [5. 1. 4. 4. 4. 5.]\n",
      " [5. 2. 2. 4. 4. 5.]\n",
      " [5. 3. 5. 4. 5. 5.]\n",
      " [3. 4. 4. 5. 1. 3.]\n",
      " [5. 1. 5. 5. 5. 5.]\n",
      " [4. 3. 3. 4. 4. 4.]\n",
      " [5. 5. 1. 1. 5. 1.]\n",
      " [4. 4. 4. 4. 1. 3.]\n",
      " [5. 2. 3. 4. 4. 3.]\n",
      " [5. 3. 3. 1. 3. 5.]\n",
      " [5. 2. 3. 4. 2. 5.]\n",
      " [5. 3. 3. 4. 4. 5.]\n",
      " [4. 3. 3. 4. 4. 5.]\n",
      " [5. 3. 2. 5. 5. 5.]\n",
      " [3. 3. 3. 4. 2. 4.]\n",
      " [3. 2. 3. 5. 4. 3.]\n",
      " [5. 3. 3. 3. 3. 5.]\n",
      " [5. 4. 3. 3. 3. 5.]\n",
      " [5. 4. 3. 3. 3. 5.]\n",
      " [5. 5. 3. 5. 5. 5.]\n",
      " [3. 1. 2. 2. 1. 3.]\n",
      " [5. 4. 4. 4. 4. 5.]\n",
      " [4. 1. 4. 4. 4. 4.]\n",
      " [4. 4. 4. 2. 5. 5.]\n",
      " [3. 2. 3. 3. 2. 3.]\n",
      " [4. 4. 3. 4. 4. 4.]\n",
      " [5. 2. 4. 5. 5. 5.]\n",
      " [4. 2. 4. 5. 4. 3.]\n",
      " [4. 1. 3. 3. 4. 3.]\n",
      " [3. 2. 4. 3. 4. 4.]\n",
      " [5. 3. 4. 5. 4. 5.]\n",
      " [5. 1. 4. 3. 4. 5.]\n",
      " [5. 1. 2. 4. 4. 5.]\n",
      " [4. 2. 4. 4. 4. 4.]\n",
      " [4. 3. 5. 5. 5. 4.]\n",
      " [5. 1. 2. 5. 2. 4.]\n",
      " [4. 3. 3. 3. 3. 4.]\n",
      " [3. 4. 3. 3. 2. 3.]\n",
      " [3. 3. 3. 5. 5. 5.]\n",
      " [3. 3. 1. 3. 3. 4.]\n",
      " [3. 3. 1. 3. 3. 4.]]\n",
      "[1 0 0 0 1 1 0 1 1 1 1 0 0 1 0 0 1 1 0 1 1 1 1 1 1 1 0 0 1 1 0 1 1 0 1 1 0\n",
      " 0 1 1 1 1 0 0 1 0 0 1 0 0 1 0 1 1 0 1 1 0 1 1 0 1 0 0 0 1 1 1 1 1 0 1 0 1\n",
      " 1 0 1 1 0 1 0 1 0 0 1 0 1 0 0 1 1 0 0 0 0 0 0 0 1 1 1 1 0 1 0 1 1 0 0 0 0\n",
      " 1 0 0 1 0 1 0 0 0 0 1 0 0 1 0 1 0 0 0 1 1 0 1 1 1]\n"
     ]
    }
   ],
   "source": [
    "print(X)\n",
    "print(y)"
   ]
  },
  {
   "cell_type": "code",
   "execution_count": 10,
   "id": "01b792a0",
   "metadata": {},
   "outputs": [],
   "source": [
    "#Seperate test set and training set\n",
    "X_train, X_test, y_train, y_test = train_test_split(X,y,test_size=0.20)"
   ]
  },
  {
   "cell_type": "code",
   "execution_count": 11,
   "id": "a428b4d2",
   "metadata": {},
   "outputs": [
    {
     "name": "stdout",
     "output_type": "stream",
     "text": [
      "[[3. 4. 3. 3. 2. 3.]\n",
      " [5. 3. 5. 4. 5. 5.]\n",
      " [3. 1. 3. 2. 1. 2.]\n",
      " [1. 1. 1. 3. 1. 4.]\n",
      " [5. 1. 4. 3. 4. 5.]\n",
      " [4. 1. 3. 3. 4. 3.]\n",
      " [5. 2. 3. 3. 2. 5.]\n",
      " [5. 2. 2. 4. 4. 5.]\n",
      " [5. 2. 4. 3. 4. 5.]\n",
      " [3. 2. 3. 3. 4. 4.]\n",
      " [5. 3. 4. 3. 4. 3.]\n",
      " [5. 5. 3. 4. 4. 5.]\n",
      " [5. 3. 3. 3. 5. 3.]\n",
      " [3. 3. 1. 3. 3. 4.]\n",
      " [4. 3. 2. 4. 4. 4.]\n",
      " [5. 3. 4. 3. 4. 5.]\n",
      " [5. 3. 3. 3. 2. 5.]\n",
      " [5. 3. 4. 5. 4. 5.]\n",
      " [4. 1. 4. 4. 4. 4.]\n",
      " [4. 3. 2. 3. 2. 4.]\n",
      " [5. 5. 3. 5. 5. 5.]\n",
      " [5. 3. 2. 4. 4. 5.]\n",
      " [5. 3. 3. 1. 3. 5.]\n",
      " [4. 1. 3. 4. 4. 3.]\n",
      " [4. 3. 5. 5. 5. 4.]\n",
      " [4. 3. 2. 4. 3. 4.]\n",
      " [3. 3. 3. 4. 2. 4.]\n",
      " [4. 3. 4. 4. 3. 4.]\n",
      " [4. 3. 3. 4. 4. 4.]\n",
      " [5. 5. 1. 1. 5. 1.]\n",
      " [5. 3. 3. 3. 5. 3.]\n",
      " [4. 2. 4. 4. 4. 4.]\n",
      " [5. 2. 4. 3. 4. 5.]\n",
      " [3. 2. 3. 3. 5. 4.]\n",
      " [4. 1. 3. 2. 4. 4.]\n",
      " [5. 3. 3. 3. 3. 5.]\n",
      " [5. 2. 4. 4. 2. 3.]\n",
      " [5. 3. 3. 4. 4. 5.]\n",
      " [5. 1. 1. 5. 3. 5.]\n",
      " [4. 1. 3. 5. 3. 5.]\n",
      " [5. 2. 4. 4. 5. 5.]\n",
      " [4. 3. 3. 3. 4. 4.]\n",
      " [5. 4. 5. 5. 5. 4.]\n",
      " [5. 2. 4. 2. 2. 4.]\n",
      " [4. 2. 4. 4. 4. 4.]\n",
      " [5. 4. 4. 4. 4. 5.]\n",
      " [3. 3. 1. 3. 2. 3.]\n",
      " [5. 1. 4. 4. 4. 5.]\n",
      " [3. 4. 5. 4. 5. 4.]\n",
      " [5. 2. 4. 4. 5. 5.]\n",
      " [5. 2. 3. 4. 4. 5.]\n",
      " [4. 1. 3. 4. 4. 4.]\n",
      " [5. 4. 4. 3. 3. 4.]\n",
      " [5. 1. 3. 3. 4. 4.]\n",
      " [3. 1. 2. 3. 3. 1.]\n",
      " [5. 5. 5. 5. 5. 5.]\n",
      " [5. 1. 5. 5. 5. 5.]\n",
      " [5. 3. 4. 3. 4. 5.]\n",
      " [5. 1. 5. 5. 5. 5.]\n",
      " [3. 1. 2. 2. 1. 3.]\n",
      " [5. 4. 5. 5. 5. 5.]\n",
      " [3. 3. 1. 3. 3. 4.]\n",
      " [3. 3. 3. 3. 3. 4.]\n",
      " [5. 3. 3. 4. 4. 4.]\n",
      " [5. 2. 3. 4. 2. 5.]\n",
      " [5. 1. 3. 4. 5. 5.]\n",
      " [5. 2. 3. 3. 2. 5.]\n",
      " [4. 2. 4. 4. 4. 4.]\n",
      " [3. 1. 2. 4. 3. 5.]\n",
      " [3. 4. 4. 5. 1. 3.]\n",
      " [5. 2. 4. 4. 5. 5.]\n",
      " [3. 2. 3. 3. 2. 3.]\n",
      " [5. 3. 3. 4. 3. 3.]\n",
      " [5. 4. 2. 4. 3. 5.]\n",
      " [4. 3. 3. 3. 3. 5.]\n",
      " [3. 4. 3. 4. 1. 4.]\n",
      " [4. 1. 3. 3. 3. 4.]\n",
      " [4. 5. 5. 5. 1. 3.]\n",
      " [4. 3. 3. 4. 2. 4.]\n",
      " [5. 2. 4. 5. 5. 5.]\n",
      " [3. 3. 3. 5. 4. 3.]\n",
      " [3. 3. 2. 4. 4. 4.]\n",
      " [4. 4. 3. 3. 2. 5.]\n",
      " [5. 4. 3. 3. 3. 5.]\n",
      " [5. 3. 3. 3. 5. 5.]\n",
      " [4. 3. 3. 4. 3. 4.]\n",
      " [4. 2. 2. 4. 4. 5.]\n",
      " [4. 2. 3. 4. 3. 3.]\n",
      " [5. 1. 2. 4. 4. 5.]\n",
      " [3. 2. 4. 4. 4. 5.]\n",
      " [4. 4. 4. 4. 1. 3.]\n",
      " [5. 3. 3. 4. 4. 5.]\n",
      " [5. 1. 3. 3. 4. 4.]\n",
      " [4. 4. 3. 4. 4. 4.]\n",
      " [4. 1. 1. 3. 4. 4.]\n",
      " [5. 3. 3. 4. 4. 5.]\n",
      " [4. 2. 3. 3. 4. 4.]\n",
      " [5. 1. 5. 3. 5. 5.]\n",
      " [4. 4. 4. 2. 5. 5.]\n",
      " [3. 2. 3. 5. 4. 3.]\n",
      " [5. 3. 2. 5. 5. 5.]\n",
      " [4. 1. 3. 4. 4. 4.]\n",
      " [4. 2. 4. 3. 2. 4.]\n",
      " [5. 2. 3. 5. 5. 5.]\n",
      " [3. 2. 2. 3. 3. 3.]\n",
      " [4. 3. 3. 3. 3. 4.]\n",
      " [5. 2. 3. 3. 3. 3.]\n",
      " [5. 4. 4. 4. 4. 5.]]\n",
      "[0 0 0 0 1 0 1 0 1 0 1 1 1 1 1 1 0 0 0 0 1 1 0 0 0 1 0 1 1 1 0 0 1 0 0 1 1\n",
      " 1 0 0 1 0 1 1 1 1 0 0 0 1 1 1 1 1 0 1 1 1 1 0 1 1 0 0 1 1 0 0 1 1 0 0 0 0\n",
      " 0 0 0 0 0 1 0 0 1 0 1 1 1 1 0 1 0 1 1 0 0 0 0 1 0 0 0 1 1 1 0 1 0 1]\n"
     ]
    }
   ],
   "source": [
    "print(X_train)\n",
    "print(y_train)"
   ]
  },
  {
   "cell_type": "code",
   "execution_count": 12,
   "id": "f49b93c9",
   "metadata": {},
   "outputs": [
    {
     "name": "stdout",
     "output_type": "stream",
     "text": [
      "[[3. 2. 4. 3. 4. 4.]\n",
      " [5. 2. 4. 5. 4. 5.]\n",
      " [5. 4. 5. 4. 5. 4.]\n",
      " [5. 1. 3. 3. 4. 4.]\n",
      " [5. 2. 2. 4. 5. 5.]\n",
      " [4. 3. 3. 4. 2. 4.]\n",
      " [5. 1. 2. 5. 2. 4.]\n",
      " [4. 1. 3. 1. 1. 4.]\n",
      " [5. 2. 3. 4. 4. 3.]\n",
      " [5. 5. 5. 5. 5. 5.]\n",
      " [3. 3. 3. 5. 5. 5.]\n",
      " [5. 3. 2. 4. 4. 4.]\n",
      " [5. 2. 3. 3. 3. 5.]\n",
      " [4. 4. 4. 4. 3. 4.]\n",
      " [4. 4. 3. 4. 3. 3.]\n",
      " [4. 1. 3. 4. 4. 3.]\n",
      " [4. 3. 4. 4. 2. 4.]\n",
      " [5. 4. 3. 3. 3. 5.]\n",
      " [5. 3. 4. 4. 4. 4.]\n",
      " [5. 2. 5. 5. 5. 5.]\n",
      " [5. 1. 4. 3. 5. 5.]\n",
      " [4. 4. 3. 4. 2. 4.]\n",
      " [4. 3. 3. 4. 4. 5.]\n",
      " [5. 2. 5. 5. 5. 3.]\n",
      " [5. 5. 5. 2. 5. 5.]\n",
      " [4. 2. 4. 5. 4. 3.]\n",
      " [4. 1. 3. 4. 4. 5.]\n",
      " [5. 2. 3. 3. 4. 5.]]\n",
      "[1 1 1 1 1 1 1 1 1 1 1 1 0 0 0 0 0 0 1 1 1 1 0 1 0 0 0 0]\n"
     ]
    }
   ],
   "source": [
    "print(X_test)\n",
    "print(y_test)"
   ]
  },
  {
   "cell_type": "code",
   "execution_count": 13,
   "id": "99e77a1e",
   "metadata": {},
   "outputs": [],
   "source": [
    "#Sklearn's KNN algorithm with 5 neighbors\n",
    "classifier_default = KNeighborsClassifier(n_neighbors=5)\n",
    "classifier_default.fit(X_train, y_train)\n",
    "y_default_pred = classifier_default.predict(X_test)"
   ]
  },
  {
   "cell_type": "code",
   "execution_count": 14,
   "id": "5baa1cf4",
   "metadata": {},
   "outputs": [
    {
     "name": "stdout",
     "output_type": "stream",
     "text": [
      "              precision    recall  f1-score   support\n",
      "\n",
      "           0       0.33      0.27      0.30        11\n",
      "           1       0.58      0.65      0.61        17\n",
      "\n",
      "    accuracy                           0.50        28\n",
      "   macro avg       0.46      0.46      0.46        28\n",
      "weighted avg       0.48      0.50      0.49        28\n",
      "\n"
     ]
    }
   ],
   "source": [
    "#Classification Report\n",
    "classification_report_default = metrics.classification_report(y_test, y_default_pred)\n",
    "print(classification_report_default)"
   ]
  },
  {
   "cell_type": "code",
   "execution_count": 15,
   "id": "7d642974",
   "metadata": {},
   "outputs": [],
   "source": [
    "#Finding the perfect numbers of neighbors for sklearn's KNN algorithm\n",
    "k_range = range(1, 40)\n",
    "errors_list = []"
   ]
  },
  {
   "cell_type": "code",
   "execution_count": 16,
   "id": "e184105b",
   "metadata": {},
   "outputs": [],
   "source": [
    "for k in k_range:\n",
    "    classifier = KNeighborsClassifier(n_neighbors=k)\n",
    "    classifier.fit(X_train, y_train)\n",
    "    y_pred = classifier.predict(X_test)\n",
    "    errors_list.append(1.0 - metrics.accuracy_score(y_test,y_pred))"
   ]
  },
  {
   "cell_type": "code",
   "execution_count": 17,
   "id": "69f8564f",
   "metadata": {},
   "outputs": [],
   "source": [
    "#Plot the accuracy values for sklearn's KNN algorithm with the range of [1, 40]\n",
    "%matplotlib inline\n",
    "import matplotlib.pyplot as plt"
   ]
  },
  {
   "cell_type": "code",
   "execution_count": 18,
   "id": "4685fc5d",
   "metadata": {},
   "outputs": [
    {
     "data": {
      "text/plain": [
       "Text(0, 0.5, 'Error Rate')"
      ]
     },
     "execution_count": 18,
     "metadata": {},
     "output_type": "execute_result"
    },
    {
     "data": {
      "image/png": "[encoded data removed]",
      "text/plain": [
       "<Figure size 432x288 with 1 Axes>"
      ]
     },
     "metadata": {
      "needs_background": "light"
     },
     "output_type": "display_data"
    }
   ],
   "source": [
    "plt.plot(k_range,errors_list, linestyle='dashed', marker='o')\n",
    "plt.xlabel(\"K Value\")\n",
    "plt.ylabel(\"Error Rate\")"
   ]
  },
  {
   "cell_type": "code",
   "execution_count": 19,
   "id": "11e67eb7",
   "metadata": {},
   "outputs": [],
   "source": [
    "#Predicting with custom KNN and euclidean distance\n",
    "from custom_knn import KNN\n",
    "from distance_methods import euclidean_distance"
   ]
  },
  {
   "cell_type": "code",
   "execution_count": 20,
   "id": "53422456",
   "metadata": {},
   "outputs": [],
   "source": [
    "KNN_euclidean_default = KNN(euclidean_distance)\n",
    "KNN_euclidean_default.fit(X_train, y_train)\n",
    "y_euclidean_pred = KNN_euclidean_default.predict(X_test)"
   ]
  },
  {
   "cell_type": "code",
   "execution_count": 21,
   "id": "b4ab38fe",
   "metadata": {},
   "outputs": [
    {
     "name": "stdout",
     "output_type": "stream",
     "text": [
      "              precision    recall  f1-score   support\n",
      "\n",
      "           0       0.31      0.36      0.33        11\n",
      "           1       0.53      0.47      0.50        17\n",
      "\n",
      "    accuracy                           0.43        28\n",
      "   macro avg       0.42      0.42      0.42        28\n",
      "weighted avg       0.44      0.43      0.43        28\n",
      "\n"
     ]
    }
   ],
   "source": [
    "classification_report_euclidean = metrics.classification_report(y_test, y_euclidean_pred)\n",
    "print(classification_report_euclidean)"
   ]
  },
  {
   "cell_type": "code",
   "execution_count": 22,
   "id": "b08c8080",
   "metadata": {},
   "outputs": [],
   "source": [
    "errors_euclidean_list = []\n",
    "\n",
    "for k in k_range:\n",
    "    classifier = KNN(euclidean_distance, k)\n",
    "    classifier.fit(X_train, y_train)\n",
    "    y_pred = classifier.predict(X_test)\n",
    "    errors_euclidean_list.append(1.0 - metrics.accuracy_score(y_test,y_pred))"
   ]
  },
  {
   "cell_type": "code",
   "execution_count": 23,
   "id": "dc7bba9d",
   "metadata": {},
   "outputs": [
    {
     "data": {
      "text/plain": [
       "Text(0, 0.5, 'Error Rate')"
      ]
     },
     "execution_count": 23,
     "metadata": {},
     "output_type": "execute_result"
    },
    {
     "data": {
      "image/png": "[encoded data removed]",
      "text/plain": [
       "<Figure size 432x288 with 1 Axes>"
      ]
     },
     "metadata": {
      "needs_background": "light"
     },
     "output_type": "display_data"
    }
   ],
   "source": [
    "plt.plot(k_range, errors_euclidean_list, linestyle='dashed', marker='o')\n",
    "plt.xlabel(\"K Value\")\n",
    "plt.ylabel(\"Error Rate\")"
   ]
  },
  {
   "cell_type": "code",
   "execution_count": 24,
   "id": "20bfe6f0",
   "metadata": {},
   "outputs": [],
   "source": [
    "#Predicting with custom KNN and cosine distance\n",
    "from distance_methods import cosine_distance"
   ]
  },
  {
   "cell_type": "code",
   "execution_count": 25,
   "id": "82f3072e",
   "metadata": {},
   "outputs": [],
   "source": [
    "KNN_cosine_default = KNN(cosine_distance)\n",
    "KNN_cosine_default.fit(X_train, y_train)\n",
    "y_cosine_pred = KNN_cosine_default.predict(X_test)"
   ]
  },
  {
   "cell_type": "code",
   "execution_count": 26,
   "id": "0d3206a4",
   "metadata": {},
   "outputs": [
    {
     "name": "stdout",
     "output_type": "stream",
     "text": [
      "              precision    recall  f1-score   support\n",
      "\n",
      "           0       0.25      0.36      0.30        11\n",
      "           1       0.42      0.29      0.34        17\n",
      "\n",
      "    accuracy                           0.32        28\n",
      "   macro avg       0.33      0.33      0.32        28\n",
      "weighted avg       0.35      0.32      0.33        28\n",
      "\n"
     ]
    }
   ],
   "source": [
    "classification_report_cosine = metrics.classification_report(y_test, y_cosine_pred)\n",
    "print(classification_report_cosine)"
   ]
  },
  {
   "cell_type": "code",
   "execution_count": 27,
   "id": "68799fd9",
   "metadata": {},
   "outputs": [],
   "source": [
    "errors_cosine_list = []\n",
    "\n",
    "for k in k_range:\n",
    "    classifier = KNN(cosine_distance, k)\n",
    "    classifier.fit(X_train, y_train)\n",
    "    y_pred = classifier.predict(X_test)\n",
    "    errors_cosine_list.append(1.0 - metrics.accuracy_score(y_test,y_pred))"
   ]
  },
  {
   "cell_type": "code",
   "execution_count": 28,
   "id": "042d0bea",
   "metadata": {},
   "outputs": [
    {
     "data": {
      "text/plain": [
       "Text(0, 0.5, 'Error Rate')"
      ]
     },
     "execution_count": 28,
     "metadata": {},
     "output_type": "execute_result"
    },
    {
     "data": {
      "image/png": "[encoded data removed]",
      "text/plain": [
       "<Figure size 432x288 with 1 Axes>"
      ]
     },
     "metadata": {
      "needs_background": "light"
     },
     "output_type": "display_data"
    }
   ],
   "source": [
    "plt.plot(k_range, errors_cosine_list, linestyle='dashed', marker='o')\n",
    "plt.xlabel(\"K Value\")\n",
    "plt.ylabel(\"Error Rate\")"
   ]
  }
 ],
 "metadata": {
  "kernelspec": {
   "display_name": "Python 3 (ipykernel)",
   "language": "python",
   "name": "python3"
  },
  "language_info": {
   "codemirror_mode": {
    "name": "ipython",
    "version": 3
   },
   "file_extension": ".py",
   "mimetype": "text/x-python",
   "name": "python",
   "nbconvert_exporter": "python",
   "pygments_lexer": "ipython3",
   "version": "3.10.2"
  }
 },
 "nbformat": 4,
 "nbformat_minor": 5
}
